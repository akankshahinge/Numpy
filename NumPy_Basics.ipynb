{
  "nbformat": 4,
  "nbformat_minor": 0,
  "metadata": {
    "colab": {
      "provenance": []
    },
    "kernelspec": {
      "name": "python3",
      "display_name": "Python 3"
    },
    "language_info": {
      "name": "python"
    }
  },
  "cells": [
    {
      "cell_type": "code",
      "execution_count": 4,
      "metadata": {
        "id": "BivJXxL9Tux5"
      },
      "outputs": [],
      "source": [
        "import numpy as np"
      ]
    },
    {
      "cell_type": "code",
      "source": [
        "#Methods to create NumPy\n",
        "\n",
        "a = np.array([1,2,3,4,5,6])\n",
        "print(a)\n",
        "#here two arrays should be of same size\n",
        "b = np.array([[1,2,3,4,5,6],[7,8,9,10,11,12]])\n",
        "print(b)\n",
        "\n",
        "#The default type of elements in the array is float64, but you can specify explicityly\n",
        "c = np.array([[1,2],[3,4]], dtype='int')\n",
        "print(c.dtype)\n",
        "\n",
        "#creating all zero elements array\n",
        "zero_array = np.zeros([2,2], dtype='int')\n",
        "print(zero_array)\n",
        "#creating all 1's element array\n",
        "ones_array = np.ones([2,4], dtype=\"int\")\n",
        "print(ones_array)\n",
        "#creating an empty array\n",
        "empty_array = np.empty([2,3])\n",
        "print(empty_array)\n",
        "\n",
        "#creating using arange\n",
        "arr = np.arange(0,10)\n",
        "print(arr)\n",
        "#to create floting point numbers\n",
        "arr_float = np.arange(1,2,0.2, dtype='float64')\n",
        "print(arr_float)\n",
        "\n",
        "#in the above example if we used arange to create floating numbers then it gives unpredicted count of numbers, so we can make use of linespace\n",
        "arr_linspace = np.linspace(0,2,5)\n",
        "print(arr_linspace)"
      ],
      "metadata": {
        "colab": {
          "base_uri": "https://localhost:8080/"
        },
        "id": "OjTfCn0x0V5f",
        "outputId": "90ec954c-fd5d-4aa4-f562-3516b0448efa"
      },
      "execution_count": null,
      "outputs": [
        {
          "output_type": "stream",
          "name": "stdout",
          "text": [
            "[1 2 3 4 5 6]\n",
            "[[ 1  2  3  4  5  6]\n",
            " [ 7  8  9 10 11 12]]\n",
            "int64\n",
            "[[0 0]\n",
            " [0 0]]\n",
            "[[1 1 1 1]\n",
            " [1 1 1 1]]\n",
            "[[4.9e-324 9.9e-324 1.5e-323]\n",
            " [2.0e-323 2.5e-323 3.0e-323]]\n",
            "[0 2 4 6 8]\n",
            "[1.  1.2 1.4 1.6 1.8]\n",
            "[0.  0.5 1.  1.5 2. ]\n"
          ]
        }
      ]
    },
    {
      "cell_type": "code",
      "source": [
        "#Attributes\n",
        "arr = np.array([[1,2,3,4,5,6],[1,2,3,4,5,6]])\n",
        "print(arr.ndim)\n",
        "print(arr.dtype)\n",
        "print(arr.shape)\n",
        "print(arr.size)\n",
        "print(arr.itemsize)\n"
      ],
      "metadata": {
        "colab": {
          "base_uri": "https://localhost:8080/"
        },
        "id": "G9hFi78Z0bId",
        "outputId": "6b31ca84-7cec-4307-8d60-c5b314df2c6a"
      },
      "execution_count": null,
      "outputs": [
        {
          "output_type": "stream",
          "name": "stdout",
          "text": [
            "2\n",
            "int64\n",
            "(2, 6)\n",
            "12\n",
            "8\n"
          ]
        }
      ]
    },
    {
      "cell_type": "code",
      "source": [
        "#Array Manipulation\n",
        "\n",
        "'''\n",
        "1. Return Type:\n",
        "ravel(): Returns a view of the original array whenever possible. Changes to the raveled array may affect the original array (if it’s a view).\n",
        "flatten(): Returns a copy of the original array. Changes to the flattened array do not affect the original array.\n",
        "2. Memory Efficiency:\n",
        "ravel(): More memory-efficient because it avoids data copying when possible.\n",
        "flatten(): Less memory-efficient as it always creates a new copy of the data.\n",
        "3. Usage:\n",
        "ravel(): Preferred when you don’t need to preserve the original data and want better performance.\n",
        "flatten(): Preferred when you need to ensure that the original data remains unchanged.\n",
        "'''\n",
        "\n",
        "arr = np.array([1,2,3,4,5,6])\n",
        "r = arr.reshape(2,3)\n",
        "print(r)\n",
        "\n",
        "flat_arr = r.flatten()\n",
        "print(flat_arr)\n",
        "\n",
        "ravel_arr = r.ravel()\n",
        "print(ravel_arr)\n",
        "\n",
        "'''\n",
        "If for reshape if we provide arr.reshape(2,2,-1), then for last index it calculates on its own and gives the new array dimensions\n",
        "'''\n",
        "\n"
      ],
      "metadata": {
        "colab": {
          "base_uri": "https://localhost:8080/"
        },
        "id": "I55rD_aiEGFZ",
        "outputId": "921bc540-3fc9-4fc1-d11e-e4145608eab0"
      },
      "execution_count": null,
      "outputs": [
        {
          "output_type": "stream",
          "name": "stdout",
          "text": [
            "[[1 2 3]\n",
            " [4 5 6]]\n",
            "[1 2 3 4 5 6]\n",
            "[1 2 3 4 5 6]\n"
          ]
        }
      ]
    },
    {
      "cell_type": "code",
      "source": [
        "#Basic Opeartions\n",
        "\n",
        "#Arithmetic operators on arrays apply elementwise.\n",
        "a = np.array([1,2,3,4,5,6])\n",
        "b = np.array([1,2,3,4,5,6])\n",
        "print(a+b)\n",
        "print(a@b)\n",
        "print(a*b)\n",
        "print(a.dot(b))\n",
        "\n",
        "#unary opeartions\n",
        "print(a.sum())\n",
        "print(a.min())\n",
        "print(a.prod())\n",
        "print(a.mean())\n",
        "\n",
        "#get index of max and min\n",
        "print(\"Index of max and min\")\n",
        "print(a.argmax())\n",
        "print(a.argmin())\n",
        "\n",
        "reshape_arr = a.reshape(2,3)\n",
        "print(reshape_arr.sum(axis=0)) #axis zero is column\n",
        "print(reshape_arr.sum(axis=1)) #axis one is row\n",
        "\n"
      ],
      "metadata": {
        "colab": {
          "base_uri": "https://localhost:8080/"
        },
        "id": "-TXb5XrnGeAu",
        "outputId": "a5478366-73b8-4fb6-c987-c945bd19797e"
      },
      "execution_count": 26,
      "outputs": [
        {
          "output_type": "stream",
          "name": "stdout",
          "text": [
            "[ 2  4  6  8 10 12]\n",
            "91\n",
            "[ 1  4  9 16 25 36]\n",
            "91\n",
            "21\n",
            "1\n",
            "720\n",
            "3.5\n",
            "Index of max and min\n",
            "5\n",
            "0\n",
            "[5 7 9]\n",
            "[ 6 15]\n"
          ]
        }
      ]
    },
    {
      "cell_type": "code",
      "source": [
        "#Numpy indexing\n",
        "arr = np.array([[1,2,3,4,5,6],[7,8,9,10,11,13]])\n",
        "print(arr[1:2,1:4])\n",
        "\n",
        "print(arr[1:2,1:4:2])  #here we also gave step as 2\n",
        "\n",
        "#When fewer indices are provided than the number of axes, the missing indices are considered complete slices:"
      ],
      "metadata": {
        "colab": {
          "base_uri": "https://localhost:8080/"
        },
        "id": "3J62fe3fMqV-",
        "outputId": "fa5db408-ab67-4192-a9f1-6c0c24f9d7f8"
      },
      "execution_count": null,
      "outputs": [
        {
          "output_type": "stream",
          "name": "stdout",
          "text": [
            "[[ 8  9 10]]\n",
            "[[ 8 10]]\n"
          ]
        }
      ]
    },
    {
      "cell_type": "code",
      "source": [
        "#Ieration is done using first axis\n",
        "arr = np.array([[1,2,3,4,5,6],[7,8,9,10,11,13]])\n",
        "for row in arr:\n",
        "  print(row)"
      ],
      "metadata": {
        "colab": {
          "base_uri": "https://localhost:8080/"
        },
        "id": "kYANjgCSUw3G",
        "outputId": "acf9e3f3-10ee-474b-e3c1-d31313578b39"
      },
      "execution_count": null,
      "outputs": [
        {
          "output_type": "stream",
          "name": "stdout",
          "text": [
            "[1 2 3 4 5 6]\n",
            "[ 7  8  9 10 11 13]\n"
          ]
        }
      ]
    },
    {
      "cell_type": "code",
      "source": [
        "#stacking arrays\n",
        "\n",
        "a = np.arange(0,4)\n",
        "b = np.arange(6,10)\n",
        "print(np.vstack((a,b)))\n",
        "print(np.hstack((a,b)))\n",
        "\n",
        "a.reshape(2,2)\n",
        "b.reshape(2,2)\n",
        "print(np.vstack((a,b)))\n",
        "print(np.hstack((a,b)))\n",
        "\n",
        "c = np.floor(10 * np.random.random((2, 2)))\n",
        "d = np.floor(10 * np.random.random((2, 2)))\n",
        "np.hstack((c, d))\n",
        "\n",
        "#In general, for arrays with more than two dimensions, hstack stacks along their second axes, vstack stacks along their first axes\n"
      ],
      "metadata": {
        "id": "ci9L09OxVacV",
        "colab": {
          "base_uri": "https://localhost:8080/"
        },
        "outputId": "ac48fd48-9456-46db-cc90-0c0cadf112b3"
      },
      "execution_count": 15,
      "outputs": [
        {
          "output_type": "stream",
          "name": "stdout",
          "text": [
            "[[0 1 2 3]\n",
            " [6 7 8 9]]\n",
            "[0 1 2 3 6 7 8 9]\n",
            "[[0 1 2 3]\n",
            " [6 7 8 9]]\n",
            "[0 1 2 3 6 7 8 9]\n"
          ]
        },
        {
          "output_type": "execute_result",
          "data": {
            "text/plain": [
              "array([[2., 1., 8., 3.],\n",
              "       [5., 1., 7., 1.]])"
            ]
          },
          "metadata": {},
          "execution_count": 15
        }
      ]
    },
    {
      "cell_type": "code",
      "source": [
        "#splitting array\n",
        "c = np.floor(10 * np.random.random((2, 10)))\n",
        "d = np.floor(10 * np.random.random((2, 10)))\n",
        "\n",
        "print(c)\n",
        "print(d)\n",
        "\n",
        "print(np.hsplit(c,2))\n",
        "print(np.vsplit(c,2))\n",
        "\n"
      ],
      "metadata": {
        "colab": {
          "base_uri": "https://localhost:8080/"
        },
        "id": "zSNGOjqp9lg-",
        "outputId": "367e99cb-e90a-4b4c-9854-e4d572ec8dce"
      },
      "execution_count": 19,
      "outputs": [
        {
          "output_type": "stream",
          "name": "stdout",
          "text": [
            "[[2. 4. 0. 4. 4. 3. 0. 2. 6. 9.]\n",
            " [0. 9. 0. 8. 8. 5. 1. 7. 4. 3.]]\n",
            "[[9. 3. 6. 5. 7. 7. 8. 1. 8. 1.]\n",
            " [9. 9. 5. 6. 2. 6. 1. 1. 4. 1.]]\n",
            "[array([[2., 4., 0., 4., 4.],\n",
            "       [0., 9., 0., 8., 8.]]), array([[3., 0., 2., 6., 9.],\n",
            "       [5., 1., 7., 4., 3.]])]\n",
            "[array([[2., 4., 0., 4., 4., 3., 0., 2., 6., 9.]]), array([[0., 9., 0., 8., 8., 5., 1., 7., 4., 3.]])]\n"
          ]
        }
      ]
    },
    {
      "cell_type": "code",
      "source": [
        "#Copies(deep copy) and Views(shallow copy)\n",
        "\n",
        "#View: Different array objects can share the same data. The view method creates a new array object that looks at the same data.\n",
        "\n",
        "print(\"View\")\n",
        "a = np.array([[ 0,  1,  2,  3],\n",
        "              [ 4,  5,  6,  7],\n",
        "              [ 8,  9, 10, 11]])\n",
        "b = a.view()\n",
        "print(b)\n",
        "b[:]=1\n",
        "print(b)\n",
        "print(a)\n",
        "#Because b is a view of a, if we make changes in b, it reflects in a\n",
        "\n",
        "print(\"Copy\")\n",
        "\n",
        "#Copy: The copy method makes a complete copy of the array and its data.\n",
        "c = np.array([[ 0,  1,  2,  3],\n",
        "              [ 4,  5,  6,  7],\n",
        "              [ 8,  9, 10, 11]])\n",
        "d = c.copy()\n",
        "print(d)\n",
        "d[:]=1\n",
        "print(d)\n",
        "print(c)\n",
        "#Because b is a view of a, if we make changes in b, it reflects in a\n",
        "\n",
        "'''\n",
        "Note:\n",
        "1.slicing creates view\n",
        "2. Suppose we have a large array, then we can create a copy of it by slicing and use that and delete the original array. Here we can make use of copy\n",
        "\n",
        "a = np.arange(int(1e8))\n",
        "b = a[:100].copy()\n",
        "del a\n",
        "'''\n",
        "\n"
      ],
      "metadata": {
        "colab": {
          "base_uri": "https://localhost:8080/"
        },
        "id": "WDz7ZVz8_-qm",
        "outputId": "baf014c3-fcc3-4e17-e310-6e2d0bd07a64"
      },
      "execution_count": 28,
      "outputs": [
        {
          "output_type": "stream",
          "name": "stdout",
          "text": [
            "View\n",
            "[[ 0  1  2  3]\n",
            " [ 4  5  6  7]\n",
            " [ 8  9 10 11]]\n",
            "[[1 1 1 1]\n",
            " [1 1 1 1]\n",
            " [1 1 1 1]]\n",
            "[[1 1 1 1]\n",
            " [1 1 1 1]\n",
            " [1 1 1 1]]\n",
            "Copy\n",
            "[[ 0  1  2  3]\n",
            " [ 4  5  6  7]\n",
            " [ 8  9 10 11]]\n",
            "[[1 1 1 1]\n",
            " [1 1 1 1]\n",
            " [1 1 1 1]]\n",
            "[[ 0  1  2  3]\n",
            " [ 4  5  6  7]\n",
            " [ 8  9 10 11]]\n"
          ]
        }
      ]
    },
    {
      "cell_type": "code",
      "source": [
        "#Random Generator\n",
        "#use permuted congruential generator - PCG (Psuedo generator)\n",
        "\n",
        "from numpy.random import Generator as gen\n",
        "from numpy.random import PCG64 as pcg\n",
        "\n",
        "arr = gen(pcg(seed=45))   #mention a seed, so every time we get the same set of random numbers, we get the state of it by specifying the seed\n",
        "print(arr)\n",
        "\n",
        "#specify the distribution to generate\n",
        "print(arr.normal(size=(5,5)))\n",
        "\n",
        "#Get Integers\n",
        "print(arr.integers(low=2,high=20,size=(5,5)))\n",
        "\n",
        "#get random\n",
        "print(100*arr.random(size=(5,5)))\n"
      ],
      "metadata": {
        "colab": {
          "base_uri": "https://localhost:8080/"
        },
        "id": "aXOp-QwnD1yM",
        "outputId": "c13994aa-22e1-4cc2-f926-dab6b12032ee"
      },
      "execution_count": 38,
      "outputs": [
        {
          "output_type": "stream",
          "name": "stdout",
          "text": [
            "Generator(PCG64)\n",
            "[[-0.45786521 -0.62285868  0.13529003  0.84390259 -0.14849869]\n",
            " [ 0.26248378  0.53166804  0.6898073  -0.89189867  0.46882042]\n",
            " [-0.01778763 -0.6014297  -0.67763502 -0.22721533 -0.9935554 ]\n",
            " [-1.45890289  0.06375738  0.77451782 -0.24113171  0.7400469 ]\n",
            " [-0.3999656  -0.99535973 -1.52223065 -0.82025146  1.45328239]]\n",
            "[[ 3  4 11  3  5]\n",
            " [ 4  7 16 17  5]\n",
            " [ 5 14  6 14  9]\n",
            " [11 17 19 15  8]\n",
            " [ 5  2  2 10  8]]\n",
            "[[12.43307595 99.24931576 35.84362243 69.21962425 21.03198557]\n",
            " [ 1.35702786 97.47610633 72.331673   70.71529247 81.84107479]\n",
            " [31.91302529 43.63068654 37.49385017 87.42889538 31.59870206]\n",
            " [34.05552093 75.07293046 61.21549969 53.02470386 14.12420163]\n",
            " [38.3026769  89.92742536  9.67885073 81.20834195 67.68242306]]\n"
          ]
        }
      ]
    },
    {
      "cell_type": "code",
      "source": [
        "#Broadcasting\n",
        "'''\n",
        "Rule:\n",
        "1. The first rule of broadcasting is that if all input arrays do not have the same number of dimensions, a “1” will be repeatedly prepended to the shapes of the smaller arrays until all the arrays have the same number of dimensions.\n",
        "2. The second rule of broadcasting ensures that arrays with a size of 1 along a particular dimension act as if they had the size of the array with the largest shape along that dimension\n",
        "'''\n",
        "arr1 = np.array([1,2,3,4,5])\n",
        "arr2 = np.array([1,2,3,4,5])\n",
        "print(arr1+arr2)\n",
        "print(arr1+4)\n",
        "\n",
        "'''\n",
        "Rule 3: If dimensions are not matching, Numpy will fail if we move from right to left and if nither of the array has 1 in right first dimension.\n",
        "example: if dimensions are (1,4) and (1,5), then it gives error as if we move from right to left, we encounter first dimension as 4 or 5 and neither of them is 1, so it gives error\n",
        "'''\n",
        "\n",
        "arr3 = np.array([[1,2],[3,4]])\n",
        "arr4 = np.array([1,2])\n",
        "print(arr3+arr4)\n",
        "'''\n",
        "Here arr4 gets broadcasted to match dimensions of arr3\n",
        "1 2 + 1 2 = 2 4\n",
        "3 4   1 2   4 6\n",
        "'''\n",
        "\n",
        "\n"
      ],
      "metadata": {
        "colab": {
          "base_uri": "https://localhost:8080/",
          "height": 105
        },
        "id": "wFI1DZKBMe-k",
        "outputId": "30930a23-8a0e-43c5-f304-9f1b1b2ff9ab"
      },
      "execution_count": 45,
      "outputs": [
        {
          "output_type": "stream",
          "name": "stdout",
          "text": [
            "[ 2  4  6  8 10]\n",
            "[5 6 7 8 9]\n",
            "[[2 4]\n",
            " [4 6]]\n"
          ]
        },
        {
          "output_type": "execute_result",
          "data": {
            "text/plain": [
              "'\\nHere arr4 gets broadcasted to match dimensions of arr3\\n1 2 + 1 2 = 2 4\\n3 4   1 2   4 6\\n'"
            ],
            "application/vnd.google.colaboratory.intrinsic+json": {
              "type": "string"
            }
          },
          "metadata": {},
          "execution_count": 45
        }
      ]
    },
    {
      "cell_type": "code",
      "source": [
        "#concatenate\n",
        "n = np.array([1,2,3,4,5])\n",
        "m = np.array([6,7,8,9,10])\n",
        "print(np.concatenate((n,m)))\n",
        "\n",
        "n = np.array([[1,2,3],[4,5,11]])\n",
        "m = np.array([[6,7,8],[9,10,18]])\n",
        "print(np.concatenate((n,m)))\n",
        "\n"
      ],
      "metadata": {
        "colab": {
          "base_uri": "https://localhost:8080/"
        },
        "id": "CWXMKegSWwRX",
        "outputId": "b6fdc160-d46e-46a7-cbd4-6aab5277bb0a"
      },
      "execution_count": 7,
      "outputs": [
        {
          "output_type": "stream",
          "name": "stdout",
          "text": [
            "[ 1  2  3  4  5  6  7  8  9 10]\n",
            "[[ 1  2  3]\n",
            " [ 4  5 11]\n",
            " [ 6  7  8]\n",
            " [ 9 10 18]]\n"
          ]
        }
      ]
    },
    {
      "cell_type": "code",
      "source": [
        "#Transpose\n",
        "'''\n",
        "a.T is same as a.transpose()\n",
        "'''\n",
        "n = np.array([[1,2,3],[4,5,11]])\n",
        "print(n)\n",
        "a_trans = n.T\n",
        "print(a_trans)"
      ],
      "metadata": {
        "colab": {
          "base_uri": "https://localhost:8080/"
        },
        "id": "j53nTaiPgzoz",
        "outputId": "c549ba40-9da1-4278-ca4f-7abde93cbb1b"
      },
      "execution_count": 15,
      "outputs": [
        {
          "output_type": "stream",
          "name": "stdout",
          "text": [
            "[[ 1  2  3]\n",
            " [ 4  5 11]]\n",
            "[[ 1  4]\n",
            " [ 2  5]\n",
            " [ 3 11]]\n"
          ]
        }
      ]
    },
    {
      "cell_type": "code",
      "source": [
        "#Delete a specific section\n",
        "n = np.array([[1,2,3],[4,5,11]])\n",
        "print(np.delete(n,1,axis=1))"
      ],
      "metadata": {
        "colab": {
          "base_uri": "https://localhost:8080/"
        },
        "id": "7wfFXjvc75bU",
        "outputId": "0bd5e80b-e710-429c-a137-9e092084f112"
      },
      "execution_count": 21,
      "outputs": [
        {
          "output_type": "stream",
          "name": "stdout",
          "text": [
            "[[ 1  3]\n",
            " [ 4 11]]\n"
          ]
        }
      ]
    },
    {
      "cell_type": "code",
      "source": [
        "#Save and Load NumPy data\n",
        "'''\n",
        "To save your arrays to disk and load them back without having to re-run the code,\n",
        "'''\n",
        "a= np.array([1,2,3,4,5,6])\n",
        "np.save('filename',a)\n",
        "b = np.load('filename.npy')\n",
        "print(b)\n",
        "\n",
        "'''\n",
        "You can also store in csv format\n",
        "'''\n",
        "np.savetxt('filename.csv',a)\n",
        "c = np.loadtxt('filename.csv')\n",
        "print(c)"
      ],
      "metadata": {
        "colab": {
          "base_uri": "https://localhost:8080/"
        },
        "id": "ooX7oTTah25S",
        "outputId": "30834424-2969-4405-ad74-af37534c8d5c"
      },
      "execution_count": 18,
      "outputs": [
        {
          "output_type": "stream",
          "name": "stdout",
          "text": [
            "[1 2 3 4 5 6]\n",
            "[1. 2. 3. 4. 5. 6.]\n"
          ]
        }
      ]
    },
    {
      "cell_type": "code",
      "source": [
        "#eye\n",
        "'''\n",
        "Return a 2-D array with ones on the diagonal and zeros elsewhere.\n",
        "'''\n",
        "print(np.eye(3))\n",
        "print(np.eye(3, k=1))  #k=1 is one diagonal up\n",
        "\n",
        "#identity\n",
        "print(np.identity(3))\n"
      ],
      "metadata": {
        "colab": {
          "base_uri": "https://localhost:8080/"
        },
        "id": "aZ6mjBUDpylH",
        "outputId": "b8c8265a-704c-4ec1-80e7-08ae6677fe74"
      },
      "execution_count": 23,
      "outputs": [
        {
          "output_type": "stream",
          "name": "stdout",
          "text": [
            "[[1. 0. 0.]\n",
            " [0. 1. 0.]\n",
            " [0. 0. 1.]]\n",
            "[[0. 1. 0.]\n",
            " [0. 0. 1.]\n",
            " [0. 0. 0.]]\n",
            "[[1. 0. 0.]\n",
            " [0. 1. 0.]\n",
            " [0. 0. 1.]]\n"
          ]
        }
      ]
    },
    {
      "cell_type": "code",
      "source": [],
      "metadata": {
        "id": "CrPp-7MTBuVE"
      },
      "execution_count": null,
      "outputs": []
    }
  ]
}